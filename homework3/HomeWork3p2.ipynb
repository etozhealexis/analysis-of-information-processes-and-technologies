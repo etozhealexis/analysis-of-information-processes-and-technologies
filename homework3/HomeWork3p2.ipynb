{
 "cells": [
  {
   "cell_type": "markdown",
   "source": [
    "Задание 1.\n",
    "Дано два списка. Вычислить их пересечение, т.е. отобрать только те элементы, которые есть в обоих списках"
   ],
   "metadata": {
    "collapsed": false
   }
  },
  {
   "cell_type": "code",
   "execution_count": 1,
   "outputs": [
    {
     "name": "stdout",
     "output_type": "stream",
     "text": [
      "[3, 4, 5]\n"
     ]
    }
   ],
   "source": [
    "list1 = [1, 2, 3, 4, 5]\n",
    "list2 = [3, 4, 5, 6, 7]\n",
    "\n",
    "def findIntersection(list1, list2):\n",
    "    return list(filter(lambda x: x in list1, list2))\n",
    "\n",
    "print(findIntersection(list1, list2))"
   ],
   "metadata": {
    "collapsed": false,
    "ExecuteTime": {
     "end_time": "2023-10-16T18:30:42.964824800Z",
     "start_time": "2023-10-16T18:30:42.957829200Z"
    }
   }
  },
  {
   "cell_type": "markdown",
   "source": [
    "Задание 2.\n",
    "Дан список строк. Выбрать из них только те, которые заключают в себе числа (без посторонних символов)."
   ],
   "metadata": {
    "collapsed": false
   }
  },
  {
   "cell_type": "code",
   "execution_count": 3,
   "outputs": [
    {
     "name": "stdout",
     "output_type": "stream",
     "text": [
      "['12345']\n"
     ]
    }
   ],
   "source": [
    "strings = [\"яблоко123\", \"банан\", \"вишня456\", \"дата\", \"12345\"]\n",
    "\n",
    "def filterCharacters(strings):\n",
    "    return list(filter(lambda x: x.isdigit() , strings))\n",
    "\n",
    "print(filterCharacters(strings))"
   ],
   "metadata": {
    "collapsed": false,
    "ExecuteTime": {
     "end_time": "2023-10-16T18:34:54.806322100Z",
     "start_time": "2023-10-16T18:34:54.798328600Z"
    }
   }
  },
  {
   "cell_type": "markdown",
   "source": [
    "Задание 3.\n",
    "Дана строка с текстом. С помощью ФП подсчитать количество вхождений в нее каждого слова (без учета регистра). Результат отсортировать в порядке убывания количества вхождений и вывести в виде кортежей (слово_в_нижнем_регистре, длина_слова, количество_вхождений)."
   ],
   "metadata": {
    "collapsed": false
   }
  },
  {
   "cell_type": "code",
   "execution_count": 5,
   "outputs": [
    {
     "name": "stdout",
     "output_type": "stream",
     "text": [
      "[('data', 4, 2), ('science', 7, 1), ('academy', 7, 1), ('offers', 6, 1), ('the', 3, 1), ('best', 4, 1), ('analysis', 8, 1), ('courses', 7, 1)]\n"
     ]
    }
   ],
   "source": [
    "from collections import Counter\n",
    "\n",
    "text = \"Data Science Academy offers the best data analysis courses\"\n",
    "\n",
    "def calculateOccurency(strings):\n",
    "    word_counts = Counter(text.lower().split())\n",
    "    sorted_counts = sorted(word_counts.items(), key=lambda item: item[1], reverse=True)\n",
    "    result = [(word, len(word), count) for word, count in sorted_counts]\n",
    "    return result\n",
    "\n",
    "print(calculateOccurency(strings))"
   ],
   "metadata": {
    "collapsed": false,
    "ExecuteTime": {
     "end_time": "2023-10-16T18:43:10.098086200Z",
     "start_time": "2023-10-16T18:43:10.065090300Z"
    }
   }
  }
 ],
 "metadata": {
  "kernelspec": {
   "display_name": "Python 3",
   "language": "python",
   "name": "python3"
  },
  "language_info": {
   "codemirror_mode": {
    "name": "ipython",
    "version": 2
   },
   "file_extension": ".py",
   "mimetype": "text/x-python",
   "name": "python",
   "nbconvert_exporter": "python",
   "pygments_lexer": "ipython2",
   "version": "2.7.6"
  }
 },
 "nbformat": 4,
 "nbformat_minor": 0
}
