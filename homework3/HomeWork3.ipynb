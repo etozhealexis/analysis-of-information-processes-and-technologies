{
 "cells": [
  {
   "cell_type": "markdown",
   "source": [
    "Задание 1.\n",
    "Написать генератор списка, создающий таблицу букв 6 x 5."
   ],
   "metadata": {
    "collapsed": false
   }
  },
  {
   "cell_type": "code",
   "execution_count": 1,
   "outputs": [
    {
     "name": "stdout",
     "output_type": "stream",
     "text": [
      "['a', 'b', 'c', 'd', 'e']\n",
      "['f', 'g', 'h', 'i', 'j']\n",
      "['k', 'l', 'm', 'n', 'o']\n",
      "['p', 'q', 'r', 's', 't']\n",
      "['u', 'v', 'w', 'x', 'y']\n",
      "['z', ' ', ' ', ' ', ' ']\n"
     ]
    }
   ],
   "source": [
    "def generateAlphabet():\n",
    "    n = 6\n",
    "    m = 5\n",
    "    return [[chr(97 + i * 5 + j) if 97 + i * 5 + j < 123 else ' ' for j in range(m)] for i in range(n)]\n",
    "\n",
    "\n",
    "matrix = generateAlphabet()\n",
    "for row in matrix:\n",
    "    print(row)"
   ],
   "metadata": {
    "collapsed": false
   }
  },
  {
   "cell_type": "markdown",
   "source": [
    "Задание 2.\n",
    "Написать генератор списка, создающий прямоугольную матрицу размерности n x m."
   ],
   "metadata": {
    "collapsed": false
   }
  },
  {
   "cell_type": "code",
   "execution_count": 3,
   "outputs": [
    {
     "name": "stdout",
     "output_type": "stream",
     "text": [
      "[0, 1, 2, 3, 4, 5]\n",
      "[11, 10, 9, 8, 7, 6]\n",
      "[12, 13, 14, 15, 16, 17]\n",
      "[23, 22, 21, 20, 19, 18]\n",
      "[24, 25, 26, 27, 28, 29]\n"
     ]
    }
   ],
   "source": [
    "def generateMatrix(n, m):\n",
    "    matrix = [\n",
    "        [\n",
    "            i * m + j if m % 2 == 0 else j * n + i\n",
    "            for j in range(m)\n",
    "        ]\n",
    "        for i in range(n)\n",
    "    ]\n",
    "    return matrix\n",
    "\n",
    "def sortMatrix(matrix):\n",
    "    sortedMatrix = []\n",
    "    for row in range(len(matrix)):\n",
    "        if row % 2 == 0:\n",
    "            sortedMatrix.append(matrix[row])\n",
    "        else:\n",
    "            sortedMatrix.append(list(reversed(matrix[row])))\n",
    "    return sortedMatrix\n",
    "\n",
    "\n",
    "matrix = sortMatrix(generateMatrix(5, 6))\n",
    "for row in matrix:\n",
    "    print(row)"
   ],
   "metadata": {
    "collapsed": false,
    "ExecuteTime": {
     "end_time": "2023-10-14T15:03:34.500166300Z",
     "start_time": "2023-10-14T15:03:34.496162400Z"
    }
   }
  },
  {
   "cell_type": "markdown",
   "source": [
    "Задание 3.\n",
    "Написать итератор prime_numbers, возвращающий простые числа."
   ],
   "metadata": {
    "collapsed": false
   }
  },
  {
   "cell_type": "code",
   "execution_count": 11,
   "outputs": [
    {
     "name": "stdout",
     "output_type": "stream",
     "text": [
      "2\n",
      "3\n",
      "5\n",
      "7\n",
      "11\n",
      "13\n"
     ]
    }
   ],
   "source": [
    "from math import sqrt\n",
    "from itertools import count, islice\n",
    "\n",
    "class prime_numbers:\n",
    "\n",
    "    def __init__(self, num):\n",
    "        self.num = num\n",
    "        self.position = 1\n",
    "        self.counter = 0\n",
    "\n",
    "    def __getitem__(self, item):\n",
    "        return self.num\n",
    "\n",
    "    def __iter__(self):\n",
    "        return self\n",
    "\n",
    "    def __next__(self):\n",
    "        if self.counter >= self.num:\n",
    "            raise StopIteration\n",
    "\n",
    "        while not self.isPrime(self.position):\n",
    "            self.position += 1\n",
    "\n",
    "        ret = self.position\n",
    "        self.position += 1\n",
    "        self.counter += 1\n",
    "\n",
    "        return ret\n",
    "\n",
    "    def isPrime(self, num):\n",
    "        return num > 1 and all(num % i for i in islice(count(2), int(sqrt(num) - 1)))\n",
    "\n",
    "numberCount = 6\n",
    "\n",
    "for p in prime_numbers(numberCount):\n",
    "    print(p)"
   ],
   "metadata": {
    "collapsed": false,
    "ExecuteTime": {
     "end_time": "2023-10-15T17:46:16.296863500Z",
     "start_time": "2023-10-15T17:46:16.278866800Z"
    }
   }
  },
  {
   "cell_type": "markdown",
   "source": [
    "Задание 4.\n",
    "Найти приближение числа pi при помощи итератора и формулы Валлиса."
   ],
   "metadata": {
    "collapsed": false
   }
  },
  {
   "cell_type": "code",
   "execution_count": null,
   "outputs": [],
   "source": [],
   "metadata": {
    "collapsed": false
   }
  }
 ],
 "metadata": {
  "kernelspec": {
   "display_name": "Python 3",
   "language": "python",
   "name": "python3"
  },
  "language_info": {
   "codemirror_mode": {
    "name": "ipython",
    "version": 2
   },
   "file_extension": ".py",
   "mimetype": "text/x-python",
   "name": "python",
   "nbconvert_exporter": "python",
   "pygments_lexer": "ipython2",
   "version": "2.7.6"
  }
 },
 "nbformat": 4,
 "nbformat_minor": 0
}
