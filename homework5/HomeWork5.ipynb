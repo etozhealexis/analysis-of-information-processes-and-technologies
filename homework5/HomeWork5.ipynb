{
 "cells": [
  {
   "cell_type": "markdown",
   "source": [
    "Класс узла бинарного дерева"
   ],
   "metadata": {
    "collapsed": false
   }
  },
  {
   "cell_type": "code",
   "execution_count": 31,
   "outputs": [],
   "source": [
    "class TreeNode:\n",
    "    def __init__(self, value = None, left = None, right = None):\n",
    "        self.value = value\n",
    "        self.left = left\n",
    "        self.right = right\n",
    "\n",
    "    def set_children(self, left = None, right = None):\n",
    "        if left is not None:\n",
    "            self.left = left\n",
    "        if right is not None:\n",
    "            self.right = right"
   ],
   "metadata": {
    "collapsed": false,
    "ExecuteTime": {
     "end_time": "2023-11-21T20:10:14.198652200Z",
     "start_time": "2023-11-21T20:10:14.179722600Z"
    }
   }
  },
  {
   "cell_type": "markdown",
   "source": [
    "Класс бинарного дерева:"
   ],
   "metadata": {
    "collapsed": false
   }
  },
  {
   "cell_type": "code",
   "execution_count": 32,
   "outputs": [],
   "source": [
    "class Tree:\n",
    "    def __init__(self, root = None):\n",
    "        self.root = root\n",
    "\n",
    "    def preorder(self, node = None):\n",
    "        if node == None:\n",
    "            self.preorder(self.root)\n",
    "        else:\n",
    "            print(node.value)\n",
    "            if node.left != None:\n",
    "                self.preorder(node.left)\n",
    "            if node.right != None:\n",
    "                self.preorder(node.right)\n",
    "\n",
    "    def inorder(self, node = None):\n",
    "        if node == None:\n",
    "            self.inorder(self.root)\n",
    "        else:\n",
    "            if node.left != None:\n",
    "                self.inorder(node.left)\n",
    "            print(node.value)\n",
    "            if node.right != None:\n",
    "                self.inorder(node.right)\n",
    "\n",
    "    def postorder(self, node = None):\n",
    "        if node is None:  # первый вызов для root\n",
    "            node = self.root\n",
    "        if node.left != None:\n",
    "            self.postorder(node.left)\n",
    "        if node.right != None:\n",
    "            self.postorder(node.right)\n",
    "        print(node.value)\n",
    "\n",
    "    def print_tree(self, node = None, depth = 0):\n",
    "        if node == None:\n",
    "            self.print_tree(self.root, 0)\n",
    "        else:\n",
    "            print('   ' * depth + str(node.value))\n",
    "            if node.left != None:\n",
    "                self.print_tree(node.left, depth+1)\n",
    "\n",
    "            if node.right != None:\n",
    "                self.print_tree(node.right, depth+1)\n",
    "\n",
    "    def print_tree_90(self, node = None, depth = 0):\n",
    "        if node == None:\n",
    "            self.print_tree_90(self.root, 0)\n",
    "        else:\n",
    "            if node.right != None:\n",
    "                self.print_tree_90(node.right, depth+1)\n",
    "            print(depth*'    ' + str(node.value))\n",
    "            if node.left != None:\n",
    "                self.print_tree_90(node.left, depth+1)\n",
    "\n",
    "    def sorted_tree(lst):\n",
    "        if len(lst) == 1:\n",
    "            return TreeNode(lst[0])\n",
    "        else:\n",
    "            node_ =  TreeNode(lst[len(lst)//2])\n",
    "            if len(lst[:len(lst)//2]):\n",
    "                left = Tree.sorted_tree(lst[:len(lst)//2])\n",
    "            else: left = None\n",
    "            if len(lst[len(lst)//2+1:]):\n",
    "                right = Tree.sorted_tree(lst[len(lst)//2+1:])\n",
    "            else: right = None\n",
    "            node_.set_children(left=left, right=right)\n",
    "            return node_\n",
    "\n",
    "    def sorted_list_to_bst(lst):\n",
    "        # Условие остановки рекурсии\n",
    "        if len(lst) == 0:\n",
    "            return None\n",
    "\n",
    "        # корень - средний элемент\n",
    "        middle_index = len(lst) // 2 if len(lst) % 2 == 1 else len(lst) // 2 - 1\n",
    "        root = TreeNode(lst[middle_index])\n",
    "\n",
    "        #  левая половина списка\n",
    "        root.left = Tree.sorted_list_to_bst(lst[ : middle_index])\n",
    "\n",
    "        # правая половина списка\n",
    "        root.right = Tree.sorted_list_to_bst(lst[(middle_index + 1) : ])\n",
    "\n",
    "        return root\n",
    "\n",
    "    def mirror(self, node = None):\n",
    "        if node is None:\n",
    "            node = self.root\n",
    "        if node is not None:\n",
    "            if node.left and node.right:\n",
    "                node.left, node.right = node.right, node.left\n",
    "                self.mirror(node.right)\n",
    "                self.mirror(node.left)\n",
    "            else:\n",
    "                if node.left is None and node.right:\n",
    "                    return self.mirror(node.right)\n",
    "                if node.right is None and node.left:\n",
    "                    return self.mirror(node.left)\n",
    "\n",
    "    def find_in_bst(self, value, path = None, node = None, i = 0):\n",
    "        i += 1\n",
    "        print(i)\n",
    "        if path is None:\n",
    "            path = []\n",
    "\n",
    "        if node is None:\n",
    "            node = self.root\n",
    "\n",
    "        if node is not None and self.is_valid_bst():\n",
    "            path.append(node.value)\n",
    "\n",
    "            if node.value == value:\n",
    "                print(path)\n",
    "                return\n",
    "            elif value < node.value and node.left is not None:\n",
    "                self.find_in_bst(value, path, node.left, i)\n",
    "            elif value > node.value and node.right is not None:\n",
    "                self.find_in_bst(value, path, node.right, i)\n",
    "        else:\n",
    "            print(\"«Узел не найден»\")\n",
    "\n",
    "    def is_valid_bst(self, node = None, min_val = float('-inf'), max_val = float('inf')):\n",
    "        if node is None:\n",
    "            return True\n",
    "\n",
    "        if not (min_val < node.value < max_val):\n",
    "            print(\"Не валидное бинарное дерево поиска\")\n",
    "            return False\n",
    "\n",
    "        return (self.is_valid_bst(node.left, min_val, node.value) and\n",
    "                self.is_valid_bst(node.right, node.value, max_val))"
   ],
   "metadata": {
    "collapsed": false,
    "ExecuteTime": {
     "end_time": "2023-11-21T20:10:14.215652300Z",
     "start_time": "2023-11-21T20:10:14.205655800Z"
    }
   }
  },
  {
   "cell_type": "markdown",
   "source": [
    "Задание 1.\n",
    "Дано двоичное дерево. Написать рекурсивный метод, который строит его зеркальное отражение."
   ],
   "metadata": {
    "collapsed": false
   }
  },
  {
   "cell_type": "code",
   "execution_count": 33,
   "outputs": [
    {
     "name": "stdout",
     "output_type": "stream",
     "text": [
      "        7\n",
      "    3\n",
      "        6\n",
      "1\n",
      "        5\n",
      "    2\n",
      "        4\n",
      "        4\n",
      "    2\n",
      "        5\n",
      "1\n",
      "        6\n",
      "    3\n",
      "        7\n"
     ]
    }
   ],
   "source": [
    "# method\n",
    "A = TreeNode(1)\n",
    "B = TreeNode(2)\n",
    "C = TreeNode(3)\n",
    "D = TreeNode(4)\n",
    "E = TreeNode(5)\n",
    "F = TreeNode(6)\n",
    "G = TreeNode(7)\n",
    "\n",
    "A.set_children(B, C)\n",
    "B.set_children(D, E)\n",
    "C.set_children(F, G)\n",
    "\n",
    "tr = Tree(A)\n",
    "tr.print_tree_90()\n",
    "tr.mirror()\n",
    "tr.print_tree_90()"
   ],
   "metadata": {
    "collapsed": false,
    "ExecuteTime": {
     "end_time": "2023-11-21T20:10:14.226658900Z",
     "start_time": "2023-11-21T20:10:14.211652700Z"
    }
   }
  },
  {
   "cell_type": "markdown",
   "source": [
    "Задание 2.\n",
    "Реализовать процедуру поиска в двоичном дереве поиска."
   ],
   "metadata": {
    "collapsed": false
   }
  },
  {
   "cell_type": "code",
   "execution_count": 34,
   "outputs": [
    {
     "name": "stdout",
     "output_type": "stream",
     "text": [
      "1\n",
      "2\n",
      "3\n",
      "        7\n",
      "    6\n",
      "        5\n",
      "4\n",
      "        3\n",
      "    2\n",
      "        1\n",
      "1\n",
      "2\n",
      "3\n"
     ]
    }
   ],
   "source": [
    "tr.find_in_bst(6)\n",
    "\n",
    "t = Tree(Tree.sorted_list_to_bst([1, 2, 3, 4, 5, 6, 7]))\n",
    "t.print_tree_90()\n",
    "tr.find_in_bst(6)"
   ],
   "metadata": {
    "collapsed": false,
    "ExecuteTime": {
     "end_time": "2023-11-21T20:10:14.270946200Z",
     "start_time": "2023-11-21T20:10:14.227657800Z"
    }
   }
  }
 ],
 "metadata": {
  "kernelspec": {
   "display_name": "Python 3",
   "language": "python",
   "name": "python3"
  },
  "language_info": {
   "codemirror_mode": {
    "name": "ipython",
    "version": 2
   },
   "file_extension": ".py",
   "mimetype": "text/x-python",
   "name": "python",
   "nbconvert_exporter": "python",
   "pygments_lexer": "ipython2",
   "version": "2.7.6"
  }
 },
 "nbformat": 4,
 "nbformat_minor": 0
}
