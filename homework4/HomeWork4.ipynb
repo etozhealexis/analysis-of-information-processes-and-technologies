{
 "cells": [
  {
   "cell_type": "markdown",
   "source": [
    "Класс ноды для односвязного списка:"
   ],
   "metadata": {
    "collapsed": false,
    "pycharm": {
     "name": "#%% md\n"
    }
   }
  },
  {
   "cell_type": "code",
   "execution_count": 31,
   "outputs": [],
   "source": [
    "class Node:\n",
    "    def __init__(self, value = None, nextNode = None):\n",
    "        self.value = value\n",
    "        self.nextNode = nextNode"
   ],
   "metadata": {
    "collapsed": false,
    "ExecuteTime": {
     "end_time": "2023-11-14T19:06:28.796448400Z",
     "start_time": "2023-11-14T19:06:28.777451Z"
    },
    "pycharm": {
     "name": "#%%\n"
    }
   }
  },
  {
   "cell_type": "markdown",
   "source": [
    "Класс односвязного списка для заданий 1-3:"
   ],
   "metadata": {
    "collapsed": false,
    "pycharm": {
     "name": "#%% md\n"
    }
   }
  },
  {
   "cell_type": "code",
   "execution_count": 32,
   "outputs": [],
   "source": [
    "class LinkedList:\n",
    "    def __init__(self, *args):\n",
    "        self.head = None\n",
    "        if args:\n",
    "            for value in args:\n",
    "                self.append(value)\n",
    "\n",
    "    def split(self):\n",
    "        if self.isEmpty() or self.head.nextNode is None:\n",
    "            return None\n",
    "\n",
    "        slowPointer = self.head\n",
    "        fastPointer = self.head\n",
    "\n",
    "        while fastPointer.nextNode and fastPointer.nextNode.nextNode:\n",
    "            slowPointer = slowPointer.nextNode\n",
    "            fastPointer = fastPointer.nextNode.nextNode\n",
    "\n",
    "        secondHead = slowPointer.nextNode\n",
    "        slowPointer.nextNode = None\n",
    "\n",
    "        secondHalf = LinkedList()\n",
    "        secondHalf.head = secondHead\n",
    "\n",
    "        return secondHalf\n",
    "\n",
    "    def mergeLinkedLists(self, list1, list2):\n",
    "        mergedList = LinkedList()\n",
    "\n",
    "        currentNode1 = list1.head\n",
    "        currentNode2 = list2.head\n",
    "\n",
    "        while currentNode1 and currentNode2:\n",
    "            if currentNode1.value < currentNode2.value:\n",
    "                mergedList.append(currentNode1.value)\n",
    "                currentNode1 = currentNode1.nextNode\n",
    "            else:\n",
    "                mergedList.append(currentNode2.value)\n",
    "                currentNode2 = currentNode2.nextNode\n",
    "\n",
    "        while currentNode1:\n",
    "            mergedList.append(currentNode1.value)\n",
    "            currentNode1 = currentNode1.nextNode\n",
    "        while currentNode2:\n",
    "            mergedList.append(currentNode2.value)\n",
    "            currentNode2 = currentNode2.nextNode\n",
    "\n",
    "        return mergedList\n",
    "\n",
    "    def reverse(self):\n",
    "        prevNode = None\n",
    "        currentNode = self.head\n",
    "\n",
    "        while currentNode:\n",
    "            nextNode = currentNode.nextNode\n",
    "            currentNode.nextNode = prevNode\n",
    "            prevNode = currentNode\n",
    "            currentNode = nextNode\n",
    "\n",
    "        self.head = prevNode\n",
    "\n",
    "    def append(self, value):\n",
    "        newNode = Node(value)\n",
    "\n",
    "        if self.isEmpty():\n",
    "            self.head = newNode\n",
    "        else:\n",
    "            currentNode = self.head\n",
    "            while currentNode.nextNode:\n",
    "                currentNode = currentNode.nextNode\n",
    "            currentNode.nextNode = newNode\n",
    "\n",
    "    def isEmpty(self):\n",
    "        return self.head is None\n",
    "\n",
    "    def __repr__(self):\n",
    "        values = []\n",
    "        currentNode = self.head\n",
    "\n",
    "        while currentNode:\n",
    "            values.append(currentNode.value)\n",
    "            currentNode = currentNode.nextNode\n",
    "\n",
    "        print(\" -> \".join(map(str, values)))"
   ],
   "metadata": {
    "collapsed": false,
    "ExecuteTime": {
     "end_time": "2023-11-14T19:06:28.811448200Z",
     "start_time": "2023-11-14T19:06:28.788449Z"
    },
    "pycharm": {
     "name": "#%%\n"
    }
   }
  },
  {
   "cell_type": "markdown",
   "source": [
    "Задание 1.\n",
    "Реализовать метод LinkedList.split(), осуществляющий разделение односвязного списка пополам на два списка одинаковой\n",
    "длины (или чтобы длина отличалась не более чем на 1, если исходное количество элементов нечетное)."
   ],
   "metadata": {
    "collapsed": false,
    "pycharm": {
     "name": "#%% md\n"
    }
   }
  },
  {
   "cell_type": "code",
   "execution_count": 33,
   "outputs": [
    {
     "name": "stdout",
     "output_type": "stream",
     "text": [
      "1 -> 2 -> 3 -> 4 -> 5\n",
      "1 -> 2 -> 3\n",
      "4 -> 5\n"
     ]
    }
   ],
   "source": [
    "linkedList = LinkedList(1, 2, 3, 4, 5)\n",
    "linkedList.__repr__()\n",
    "\n",
    "secondHalf = linkedList.split()\n",
    "linkedList.__repr__()\n",
    "secondHalf.__repr__()"
   ],
   "metadata": {
    "collapsed": false,
    "ExecuteTime": {
     "end_time": "2023-11-14T19:06:28.814448100Z",
     "start_time": "2023-11-14T19:06:28.798448700Z"
    },
    "pycharm": {
     "name": "#%%\n"
    }
   }
  },
  {
   "cell_type": "markdown",
   "source": [
    "Задание 2.\n",
    "Создать метод LinkedList.merge_sorted_lists(list1, list2) осуществляющий слияние двух отсортированных списков\n",
    "в новый список. Исходные списки не изменять."
   ],
   "metadata": {
    "collapsed": false,
    "pycharm": {
     "name": "#%% md\n"
    }
   }
  },
  {
   "cell_type": "code",
   "execution_count": 34,
   "outputs": [
    {
     "name": "stdout",
     "output_type": "stream",
     "text": [
      "1 -> 2 -> 3 -> 4 -> 5 -> 6 -> 7 -> 8 -> 10 -> 12\n"
     ]
    }
   ],
   "source": [
    "linkedList1 = LinkedList(1, 3, 5, 7)\n",
    "linkedList2 = LinkedList(2, 4, 6, 8, 10, 12)\n",
    "mergedLinkedList = LinkedList().mergeLinkedLists(linkedList1, linkedList2)\n",
    "mergedLinkedList.__repr__()"
   ],
   "metadata": {
    "collapsed": false,
    "ExecuteTime": {
     "end_time": "2023-11-14T19:06:28.829449200Z",
     "start_time": "2023-11-14T19:06:28.815448600Z"
    },
    "pycharm": {
     "name": "#%%\n"
    }
   }
  },
  {
   "cell_type": "markdown",
   "source": [
    "Задание 3.\n",
    "Добавить функцию reverse ()(), разворачивающую список в обратном направлении."
   ],
   "metadata": {
    "collapsed": false,
    "pycharm": {
     "name": "#%% md\n"
    }
   }
  },
  {
   "cell_type": "code",
   "execution_count": 35,
   "outputs": [
    {
     "name": "stdout",
     "output_type": "stream",
     "text": [
      "4 -> 5 -> 2 -> 3 -> 1\n"
     ]
    }
   ],
   "source": [
    "linkedList = LinkedList(1, 3, 2, 5, 4)\n",
    "linkedList.reverse()\n",
    "linkedList.__repr__()"
   ],
   "metadata": {
    "collapsed": false,
    "ExecuteTime": {
     "end_time": "2023-11-14T19:06:28.874447900Z",
     "start_time": "2023-11-14T19:06:28.830449200Z"
    },
    "pycharm": {
     "name": "#%%\n"
    }
   }
  },
  {
   "cell_type": "markdown",
   "source": [
    "Задание 4.\n",
    "Реализовать класс двусвязного списка."
   ],
   "metadata": {
    "collapsed": false,
    "pycharm": {
     "name": "#%% md\n"
    }
   }
  },
  {
   "cell_type": "code",
   "execution_count": 36,
   "outputs": [],
   "source": [
    "class DoubleNode:\n",
    "    def __init__(self, value = None, prevNode = None, nextNode = None):\n",
    "        self.value = value\n",
    "        self.prevNode = prevNode\n",
    "        self.nextNode = nextNode\n",
    "\n",
    "class DoubleLinkedList:\n",
    "    def __init__(self, *args):\n",
    "        self.head = None\n",
    "        self.tail = None\n",
    "        if args:\n",
    "            for value in args:\n",
    "                self.append(value)\n",
    "\n",
    "    def isEmpty(self):\n",
    "        return self.head is None\n",
    "\n",
    "    def append(self, value):\n",
    "        newNode = DoubleNode(value)\n",
    "        if self.isEmpty():\n",
    "            self.head = newNode\n",
    "            self.tail = newNode\n",
    "        else:\n",
    "            newNode.prevNode = self.tail\n",
    "            self.tail.nextNode = newNode\n",
    "            self.tail = newNode\n",
    "\n",
    "    def delete(self, value):\n",
    "        currentNode = self.head\n",
    "\n",
    "        while currentNode:\n",
    "            if currentNode.value == value:\n",
    "                if currentNode.prevNode:\n",
    "                    currentNode.prevNode.nextNode = currentNode.nextNode\n",
    "                else:\n",
    "                    self.head = currentNode.nextNode\n",
    "\n",
    "                if currentNode.nextNode:\n",
    "                    currentNode.nextNode.prevNode = currentNode.prevNode\n",
    "                else:\n",
    "                    self.tail = currentNode.prevNode\n",
    "\n",
    "                return\n",
    "\n",
    "            currentNode = currentNode.nextNode\n",
    "\n",
    "    def findByValue(self, value):\n",
    "        currentNode = self.head\n",
    "\n",
    "        while currentNode:\n",
    "            if currentNode.value == value:\n",
    "                return currentNode\n",
    "            currentNode = currentNode.nextNode\n",
    "\n",
    "        return None \n",
    "\n",
    "    def __iter__(self):\n",
    "        currentNode = self.head\n",
    "        while currentNode:\n",
    "            yield currentNode.value\n",
    "            currentNode = currentNode.nextNode"
   ],
   "metadata": {
    "collapsed": false,
    "ExecuteTime": {
     "end_time": "2023-11-14T19:06:28.880447900Z",
     "start_time": "2023-11-14T19:06:28.845449700Z"
    },
    "pycharm": {
     "name": "#%%\n"
    }
   }
  },
  {
   "cell_type": "markdown",
   "source": [
    "Тестирование написанного класса"
   ],
   "metadata": {
    "collapsed": false,
    "pycharm": {
     "name": "#%% md\n"
    }
   }
  },
  {
   "cell_type": "code",
   "execution_count": 37,
   "outputs": [
    {
     "name": "stdout",
     "output_type": "stream",
     "text": [
      "Изначальный список:\n",
      "1 -> 2 -> 3 -> 4 -> 5 -> \n",
      "После удаления тройки:\n",
      "1 -> 2 -> 4 -> 5 -> \n",
      "Найденное значение: 2\n"
     ]
    }
   ],
   "source": [
    "doubleLinkedList = DoubleLinkedList(1, 2, 3, 4, 5)\n",
    "print(\"Изначальный список:\")\n",
    "for value in doubleLinkedList:\n",
    "    print(value, end=\" -> \")\n",
    "\n",
    "doubleLinkedList.delete(3)\n",
    "print(\"\\nПосле удаления тройки:\")\n",
    "for value in doubleLinkedList:\n",
    "    print(value, end=\" -> \")\n",
    "\n",
    "foundNode = doubleLinkedList.findByValue(2)\n",
    "print(\"\\nНайденное значение: \" + str(foundNode.value))"
   ],
   "metadata": {
    "collapsed": false,
    "ExecuteTime": {
     "end_time": "2023-11-14T19:06:28.881448700Z",
     "start_time": "2023-11-14T19:06:28.862451900Z"
    },
    "pycharm": {
     "name": "#%%\n"
    }
   }
  }
 ],
 "metadata": {
  "kernelspec": {
   "display_name": "Python 3",
   "language": "python",
   "name": "python3"
  },
  "language_info": {
   "codemirror_mode": {
    "name": "ipython",
    "version": 2
   },
   "file_extension": ".py",
   "mimetype": "text/x-python",
   "name": "python",
   "nbconvert_exporter": "python",
   "pygments_lexer": "ipython2",
   "version": "2.7.6"
  }
 },
 "nbformat": 4,
 "nbformat_minor": 0
}