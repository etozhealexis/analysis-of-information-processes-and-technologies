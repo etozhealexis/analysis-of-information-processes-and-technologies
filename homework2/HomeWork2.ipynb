{
 "cells": [
  {
   "cell_type": "raw",
   "source": [
    "    kNN close neighbours"
   ],
   "metadata": {
    "collapsed": false
   }
  },
  {
   "cell_type": "code",
   "execution_count": 1,
   "outputs": [
    {
     "name": "stdout",
     "output_type": "stream",
     "text": [
      "I'm instance of nor A, nor B classes\n"
     ]
    },
    {
     "data": {
      "text/plain": "<Figure size 640x480 with 1 Axes>",
      "image/png": "[encoded data removed]"
     },
     "metadata": {},
     "output_type": "display_data"
    },
    {
     "name": "stdout",
     "output_type": "stream",
     "text": [
      "I'm instance of B class\n"
     ]
    }
   ],
   "source": [
    "from prog.Generator import Generator\n",
    "from prog.model.C import C\n",
    "from prog.service.ClassDefiner import ClassDefiner\n",
    "from prog.Renderer import Renderer\n",
    "\n",
    "generator = Generator()\n",
    "dotsCount = 10\n",
    "k = 3\n",
    "c = C(5, 5)\n",
    "dotsAList = generator.generateAList(dotsCount)\n",
    "dotsBList = generator.generateBList(dotsCount)\n",
    "renderer = Renderer(dotsAList, dotsBList, c, k)\n",
    "\n",
    "print(c.determinator)\n",
    "\n",
    "definer = ClassDefiner(dotsAList, dotsBList)\n",
    "definer.defineClass(k, c)\n",
    "renderer.drawDots()\n",
    "\n",
    "print(c.determinator)"
   ],
   "metadata": {
    "collapsed": false,
    "ExecuteTime": {
     "end_time": "2023-10-01T18:48:54.880392Z",
     "start_time": "2023-10-01T18:48:54.477393200Z"
    }
   }
  }
 ],
 "metadata": {
  "kernelspec": {
   "display_name": "Python 3",
   "language": "python",
   "name": "python3"
  },
  "language_info": {
   "codemirror_mode": {
    "name": "ipython",
    "version": 2
   },
   "file_extension": ".py",
   "mimetype": "text/x-python",
   "name": "python",
   "nbconvert_exporter": "python",
   "pygments_lexer": "ipython2",
   "version": "2.7.6"
  }
 },
 "nbformat": 4,
 "nbformat_minor": 0
}
