{
 "cells": [
  {
   "cell_type": "raw",
   "source": [
    "kNN close neighbours"
   ],
   "metadata": {
    "collapsed": false
   }
  },
  {
   "cell_type": "code",
   "execution_count": 1,
   "outputs": [
    {
     "name": "stdout",
     "output_type": "stream",
     "text": [
      "I'm instance of nor A, nor B classes\n",
      "I'm instance of A class\n"
     ]
    }
   ],
   "source": [
    "from prog.Generator import Generator\n",
    "from prog.model.C import C\n",
    "from prog.service.ClassDefiner import ClassDefiner\n",
    "\n",
    "generator = Generator()\n",
    "dotsCount = 10\n",
    "k = 3\n",
    "c = C(8, 2)\n",
    "\n",
    "print(c.determinator)\n",
    "\n",
    "dotsAList = generator.generateAList(dotsCount)\n",
    "dotsBList = generator.generateBList(dotsCount)\n",
    "\n",
    "definer = ClassDefiner(dotsAList, dotsBList)\n",
    "definer.defineClass(k, c)\n",
    "\n",
    "print(c.determinator)"
   ],
   "metadata": {
    "collapsed": false,
    "ExecuteTime": {
     "end_time": "2023-09-30T13:14:11.150365600Z",
     "start_time": "2023-09-30T13:14:11.136365300Z"
    }
   }
  }
 ],
 "metadata": {
  "kernelspec": {
   "display_name": "Python 3",
   "language": "python",
   "name": "python3"
  },
  "language_info": {
   "codemirror_mode": {
    "name": "ipython",
    "version": 2
   },
   "file_extension": ".py",
   "mimetype": "text/x-python",
   "name": "python",
   "nbconvert_exporter": "python",
   "pygments_lexer": "ipython2",
   "version": "2.7.6"
  }
 },
 "nbformat": 4,
 "nbformat_minor": 0
}
