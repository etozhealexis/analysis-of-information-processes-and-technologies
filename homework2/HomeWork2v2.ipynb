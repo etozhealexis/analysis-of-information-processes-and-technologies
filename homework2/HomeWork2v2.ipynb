{
 "cells": [
  {
   "cell_type": "markdown",
   "source": [
    "kNN closest neighbours"
   ],
   "metadata": {
    "collapsed": false
   }
  },
  {
   "cell_type": "markdown",
   "source": [
    "импорты для вычислений и построения графиков"
   ],
   "metadata": {
    "collapsed": false
   }
  },
  {
   "cell_type": "code",
   "execution_count": 1,
   "outputs": [],
   "source": [
    "import math as math\n",
    "import random as random\n",
    "import matplotlib.pyplot as plt\n",
    "from typing import List"
   ],
   "metadata": {
    "collapsed": false,
    "ExecuteTime": {
     "end_time": "2023-10-01T19:06:35.257983300Z",
     "start_time": "2023-10-01T19:06:34.948984100Z"
    }
   }
  },
  {
   "cell_type": "markdown",
   "source": [
    "классы-модели"
   ],
   "metadata": {
    "collapsed": false
   }
  },
  {
   "cell_type": "code",
   "execution_count": 2,
   "outputs": [],
   "source": [
    "class A:\n",
    "\n",
    "    def __init__(self, x, y):\n",
    "        self.x = x\n",
    "        self.y = y\n",
    "        self.determinator = \"I'm instance of A class\"\n",
    "\n",
    "class B:\n",
    "\n",
    "    def __init__(self, x, y):\n",
    "        self.x = x\n",
    "        self.y = y\n",
    "        self.determinator = \"I'm instance of B class\"\n",
    "\n",
    "class C:\n",
    "\n",
    "    def __init__(self, x, y):\n",
    "        self.x = x\n",
    "        self.y = y\n",
    "        self.determinator = \"I'm instance of nor A, nor B classes\""
   ],
   "metadata": {
    "collapsed": false,
    "ExecuteTime": {
     "end_time": "2023-10-01T19:06:35.273981700Z",
     "start_time": "2023-10-01T19:06:35.257983300Z"
    }
   }
  },
  {
   "cell_type": "markdown",
   "source": [
    "класс-определитель класса заданной точки"
   ],
   "metadata": {
    "collapsed": false
   }
  },
  {
   "cell_type": "code",
   "execution_count": 3,
   "outputs": [],
   "source": [
    "class ClassDefiner:\n",
    "\n",
    "    def __init__(self, dotsAList, dotsBList):\n",
    "        self.dotsAList = dotsAList\n",
    "        self.dotsBList = dotsBList\n",
    "        self.dotsANeighbourMap = {}\n",
    "        self.dotsBNeighbourMap = {}\n",
    "        self.dotsANeighbourCount = 0\n",
    "        self.dotsBNeighbourCount = 0\n",
    "        self.dotsANeighbourMapK = {}\n",
    "        self.dotsBNeighbourMapK = {}\n",
    "\n",
    "    def defineClass(self, k, c):\n",
    "        self.calculateDotMap(self.dotsAList, c)\n",
    "        self.calculateDotMap(self.dotsBList, c)\n",
    "\n",
    "        dotsLens = list(self.dotsANeighbourMap.keys()) + list(self.dotsBNeighbourMap.keys())\n",
    "        dotsLens.sort()\n",
    "        self.calculateNeighbours(dotsLens, k)\n",
    "\n",
    "        if self.dotsANeighbourCount > self.dotsBNeighbourCount:\n",
    "            c.determinator = \"I'm instance of A class\"\n",
    "        elif self.dotsANeighbourCount < self.dotsBNeighbourCount:\n",
    "            c.determinator = \"I'm instance of B class\"\n",
    "        elif self.calculateAverageDistance(self.dotsANeighbourMapK) > self.calculateAverageDistance(self.dotsBNeighbourMapK):\n",
    "            c.determinator = \"I'm instance of B class\"\n",
    "        else:\n",
    "            c.determinator = \"I'm instance of A class\"\n",
    "\n",
    "    def calculateDotMap(self, dotsList, c):\n",
    "        for element in dotsList:\n",
    "            lenToC = math.sqrt((element.x - c.x) ** 2 + (element.y - c.y) ** 2)\n",
    "            if dotsList == self.dotsAList:\n",
    "                self.dotsANeighbourMap[lenToC] = element\n",
    "            elif dotsList == self.dotsBList:\n",
    "                self.dotsBNeighbourMap[lenToC] = element\n",
    "\n",
    "    def calculateNeighbours(self, dotsLens, k):\n",
    "        counter = 0\n",
    "        for key in dotsLens:\n",
    "            if counter == k:\n",
    "                break\n",
    "\n",
    "            if self.dotsANeighbourMap.__contains__(key):\n",
    "                self.dotsANeighbourCount += 1\n",
    "                self.dotsANeighbourMapK[self.dotsANeighbourMap.get(key)] = key\n",
    "\n",
    "            if self.dotsBNeighbourMap.__contains__(key):\n",
    "                self.dotsBNeighbourCount += 1\n",
    "                self.dotsBNeighbourMapK[self.dotsBNeighbourMap.get(key)] = key\n",
    "\n",
    "            counter += 1\n",
    "\n",
    "    def calculateAverageDistance(self, dotsMap):\n",
    "        dotsLenSum = 0\n",
    "        counter = 1\n",
    "\n",
    "        for elementLen in dotsMap.values():\n",
    "            dotsLenSum += elementLen\n",
    "            counter += 1\n",
    "\n",
    "        return dotsLenSum / counter"
   ],
   "metadata": {
    "collapsed": false,
    "ExecuteTime": {
     "end_time": "2023-10-01T19:06:35.297938300Z",
     "start_time": "2023-10-01T19:06:35.277982200Z"
    }
   }
  },
  {
   "cell_type": "markdown",
   "source": [
    "генератор рандомных точек"
   ],
   "metadata": {
    "collapsed": false
   }
  },
  {
   "cell_type": "code",
   "execution_count": 4,
   "outputs": [],
   "source": [
    "class Generator:\n",
    "\n",
    "    def generateAList(self, dotsCount):\n",
    "        dotsList = []\n",
    "\n",
    "        for i in range(0, dotsCount):\n",
    "            dotsList.append(A(random.randint(0, 5), random.randint(5, 10)))\n",
    "\n",
    "        return dotsList\n",
    "\n",
    "    def generateBList(self, dotsCount):\n",
    "        dotsList = []\n",
    "\n",
    "        for i in range(0, dotsCount):\n",
    "            dotsList.append(B(random.randint(5, 10), random.randint(0, 5)))\n",
    "\n",
    "        return dotsList"
   ],
   "metadata": {
    "collapsed": false,
    "ExecuteTime": {
     "end_time": "2023-10-01T19:06:35.304942500Z",
     "start_time": "2023-10-01T19:06:35.292942600Z"
    }
   }
  },
  {
   "cell_type": "markdown",
   "source": [
    "класс-отрисовщик"
   ],
   "metadata": {
    "collapsed": false
   }
  },
  {
   "cell_type": "code",
   "execution_count": 5,
   "outputs": [],
   "source": [
    "class Renderer:\n",
    "\n",
    "    def __init__(self, dotsAList: List[A], dotsBList: List[B], c, k):\n",
    "        self.dotsAList = dotsAList\n",
    "        self.dotsBList = dotsBList\n",
    "        self.c = c\n",
    "        self.k = k\n",
    "\n",
    "    def drawDots(self):\n",
    "\n",
    "        aXList = self.getXList(self.dotsAList)\n",
    "        aYList = self.getYList(self.dotsAList)\n",
    "        bXList = self.getXList(self.dotsBList)\n",
    "        bYList = self.getYList(self.dotsBList)\n",
    "\n",
    "        plt.scatter(aXList, aYList, c='red')\n",
    "        plt.scatter(bXList, bYList, c='blue')\n",
    "        plt.scatter(self.c.x, self.c.y, c='yellow')\n",
    "        plt.plot()\n",
    "        plt.show()\n",
    "\n",
    "    def getXList(self, dotsList):\n",
    "        dotsX = []\n",
    "        for element in dotsList:\n",
    "            dotsX.append(element.x)\n",
    "        return dotsX\n",
    "\n",
    "    def getYList(self, dotsList):\n",
    "        dotsY = []\n",
    "        for element in dotsList:\n",
    "            dotsY.append(element.y)\n",
    "        return dotsY"
   ],
   "metadata": {
    "collapsed": false,
    "ExecuteTime": {
     "end_time": "2023-10-01T19:06:35.319938600Z",
     "start_time": "2023-10-01T19:06:35.304942500Z"
    }
   }
  },
  {
   "cell_type": "markdown",
   "source": [
    "проверка работы программы"
   ],
   "metadata": {
    "collapsed": false
   }
  },
  {
   "cell_type": "code",
   "execution_count": 6,
   "outputs": [
    {
     "name": "stdout",
     "output_type": "stream",
     "text": [
      "I'm instance of nor A, nor B classes\n"
     ]
    },
    {
     "data": {
      "text/plain": "<Figure size 640x480 with 1 Axes>",
      "image/png": "[encoded data removed]"
     },
     "metadata": {},
     "output_type": "display_data"
    },
    {
     "name": "stdout",
     "output_type": "stream",
     "text": [
      "I'm instance of A class\n"
     ]
    }
   ],
   "source": [
    "generator = Generator()\n",
    "dotsCount = 10\n",
    "k = 3\n",
    "c = C(5, 5)\n",
    "dotsAList = generator.generateAList(dotsCount)\n",
    "dotsBList = generator.generateBList(dotsCount)\n",
    "renderer = Renderer(dotsAList, dotsBList, c, k)\n",
    "\n",
    "print(c.determinator)\n",
    "\n",
    "definer = ClassDefiner(dotsAList, dotsBList)\n",
    "definer.defineClass(k, c)\n",
    "renderer.drawDots()\n",
    "\n",
    "print(c.determinator)"
   ],
   "metadata": {
    "collapsed": false,
    "ExecuteTime": {
     "end_time": "2023-10-01T19:06:35.413938100Z",
     "start_time": "2023-10-01T19:06:35.320939200Z"
    }
   }
  }
 ],
 "metadata": {
  "kernelspec": {
   "display_name": "Python 3",
   "language": "python",
   "name": "python3"
  },
  "language_info": {
   "codemirror_mode": {
    "name": "ipython",
    "version": 2
   },
   "file_extension": ".py",
   "mimetype": "text/x-python",
   "name": "python",
   "nbconvert_exporter": "python",
   "pygments_lexer": "ipython2",
   "version": "2.7.6"
  }
 },
 "nbformat": 4,
 "nbformat_minor": 0
}
