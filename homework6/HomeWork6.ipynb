{
 "cells": [
  {
   "cell_type": "markdown",
   "source": [
    "# Классы и методы из предыдущих ДЗ."
   ],
   "metadata": {
    "collapsed": false,
    "pycharm": {
     "name": "#%% md\n"
    }
   }
  },
  {
   "cell_type": "code",
   "execution_count": null,
   "outputs": [],
   "source": [
    "# Класс элемента односвязного списка\n",
    "class Node:\n",
    "    def __init__(self, value = None, nextNode = None):\n",
    "        self.value = value\n",
    "        self.nextNode = nextNode\n",
    "\n",
    "# Класс односвязного списка\n",
    "class LinkedList:\n",
    "    def __init__(self, *args):\n",
    "        self.head = None\n",
    "        if args:\n",
    "            for value in args:\n",
    "                self.append(value)\n",
    "\n",
    "    def split(self):\n",
    "        if self.isEmpty() or self.head.nextNode is None:\n",
    "            return None\n",
    "\n",
    "        slowPointer = self.head\n",
    "        fastPointer = self.head\n",
    "\n",
    "        while fastPointer.nextNode and fastPointer.nextNode.nextNode:\n",
    "            slowPointer = slowPointer.nextNode\n",
    "            fastPointer = fastPointer.nextNode.nextNode\n",
    "\n",
    "        secondHead = slowPointer.nextNode\n",
    "        slowPointer.nextNode = None\n",
    "\n",
    "        secondHalf = LinkedList()\n",
    "        secondHalf.head = secondHead\n",
    "\n",
    "        return secondHalf\n",
    "\n",
    "    def mergeLinkedLists(self, list1, list2):\n",
    "        mergedList = LinkedList()\n",
    "\n",
    "        currentNode1 = list1.head\n",
    "        currentNode2 = list2.head\n",
    "\n",
    "        while currentNode1 and currentNode2:\n",
    "            if currentNode1.value < currentNode2.value:\n",
    "                mergedList.append(currentNode1.value)\n",
    "                currentNode1 = currentNode1.nextNode\n",
    "            else:\n",
    "                mergedList.append(currentNode2.value)\n",
    "                currentNode2 = currentNode2.nextNode\n",
    "\n",
    "        while currentNode1:\n",
    "            mergedList.append(currentNode1.value)\n",
    "            currentNode1 = currentNode1.nextNode\n",
    "        while currentNode2:\n",
    "            mergedList.append(currentNode2.value)\n",
    "            currentNode2 = currentNode2.nextNode\n",
    "\n",
    "        return mergedList\n",
    "\n",
    "    def reverse(self):\n",
    "        prevNode = None\n",
    "        currentNode = self.head\n",
    "\n",
    "        while currentNode:\n",
    "            nextNode = currentNode.nextNode\n",
    "            currentNode.nextNode = prevNode\n",
    "            prevNode = currentNode\n",
    "            currentNode = nextNode\n",
    "\n",
    "        self.head = prevNode\n",
    "\n",
    "    def append(self, value):\n",
    "        newNode = Node(value)\n",
    "\n",
    "        if self.isEmpty():\n",
    "            self.head = newNode\n",
    "        else:\n",
    "            currentNode = self.head\n",
    "            while currentNode.nextNode:\n",
    "                currentNode = currentNode.nextNode\n",
    "            currentNode.nextNode = newNode\n",
    "\n",
    "    def isEmpty(self):\n",
    "        return self.head is None\n",
    "\n",
    "    def __repr__(self):\n",
    "        values = []\n",
    "        currentNode = self.head\n",
    "\n",
    "        while currentNode:\n",
    "            values.append(currentNode.value)\n",
    "            currentNode = currentNode.nextNode\n",
    "\n",
    "        print(\" -> \".join(map(str, values)))\n",
    "\n",
    "    def find(self, data):\n",
    "        pos = 0\n",
    "        for item in self:\n",
    "            if item == data:\n",
    "                return pos\n",
    "            pos += 1\n",
    "        return -1\n",
    "\n",
    "    def insert(self, index, data):\n",
    "        if index < 0 or index >= len(self):\n",
    "            raise IndexError\n",
    "        elif index == 0:\n",
    "            self.prepend_value(data)\n",
    "        elif index == len(self)-1:\n",
    "            self.append(data)\n",
    "        else:\n",
    "            new_node = Node(data)\n",
    "            current = self.head\n",
    "            for i in range(index-1):\n",
    "                current = current.next\n",
    "            new_node.next = current.next\n",
    "            current.next = new_node\n",
    "            self.len += 1\n",
    "\n",
    "    def prepend_value(self, data):\n",
    "        new_node = Node(data)\n",
    "        if len(self) == 0:\n",
    "            self.head = new_node\n",
    "            self.tail = new_node\n",
    "        else:\n",
    "            tmp = self.head\n",
    "            self.head = new_node\n",
    "            new_node.next = tmp\n",
    "        self.len += 1\n",
    "\n",
    "    def remove(self, index):\n",
    "        if index < 0 or index >= len(self):\n",
    "            raise IndexError\n",
    "        elif index == 0:\n",
    "            self.head = self.head.next\n",
    "        else:\n",
    "            current = self.head\n",
    "            for i in range(index-1):\n",
    "                current = current.next\n",
    "            current.next = current.next.next\n",
    "        self.len -= 1\n",
    "\n",
    "\n",
    "# Класс узла дерева\n",
    "class TreeNode:\n",
    "    def __init__(self, value=None, left=None, right=None):\n",
    "        self.value = value\n",
    "        self.left = left\n",
    "        self.right = right\n",
    "\n",
    "    def set_children(self, left=None, right=None):\n",
    "        if left is not None:\n",
    "            self.left = left\n",
    "        if right is not None:\n",
    "            self.right = right\n",
    "\n",
    "\n",
    "# Класс бинарного дерева\n",
    "class Tree:\n",
    "    def __init__(self, root=None):\n",
    "        self.root = root\n",
    "\n",
    "    def preorder(self, node=None):\n",
    "        if node == None:\n",
    "            self.preorder(self.root)\n",
    "        else:\n",
    "            print(node.value)\n",
    "            if node.left != None:\n",
    "                self.preorder(node.left)\n",
    "            if node.right != None:\n",
    "                self.preorder(node.right)\n",
    "\n",
    "    def inorder(self, node=None):\n",
    "        if node == None:\n",
    "            self.inorder(self.root)\n",
    "        else:\n",
    "            if node.left != None:\n",
    "                self.inorder(node.left)\n",
    "            print(node.value)\n",
    "            if node.right != None:\n",
    "                self.inorder(node.right)\n",
    "\n",
    "    def postorder(self, node=None):\n",
    "        if node is None:  # первый вызов для root\n",
    "            node = self.root\n",
    "        if node.left != None:\n",
    "            self.postorder(node.left)\n",
    "        if node.right != None:\n",
    "            self.postorder(node.right)\n",
    "        print(node.value)\n",
    "\n",
    "    def print_tree(self, node=None, depth=0):\n",
    "        if node == None:\n",
    "            self.print_tree(self.root, 0)\n",
    "        else:\n",
    "            print('   ' * depth + str(node.value))\n",
    "            if node.left != None:\n",
    "                self.print_tree(node.left, depth + 1)\n",
    "\n",
    "            if node.right != None:\n",
    "                self.print_tree(node.right, depth + 1)\n",
    "\n",
    "    def print_tree_90(self, node=None, depth=0):\n",
    "        if node == None:\n",
    "            self.print_tree_90(self.root, 0)\n",
    "        else:\n",
    "            if node.right != None:\n",
    "                self.print_tree_90(node.right, depth + 1)\n",
    "            print(depth * '    ' + str(node.value))\n",
    "            if node.left != None:\n",
    "                self.print_tree_90(node.left, depth + 1)\n",
    "\n",
    "    def sorted_tree(lst):\n",
    "        if len(lst) == 1:\n",
    "            return TreeNode(lst[0])\n",
    "        else:\n",
    "            node_ = TreeNode(lst[len(lst) // 2])\n",
    "            if len(lst[:len(lst) // 2]):\n",
    "                left = Tree.sorted_tree(lst[:len(lst) // 2])\n",
    "            else:\n",
    "                left = None\n",
    "            if len(lst[len(lst) // 2 + 1:]):\n",
    "                right = Tree.sorted_tree(lst[len(lst) // 2 + 1:])\n",
    "            else:\n",
    "                right = None\n",
    "            node_.set_children(left=left, right=right)\n",
    "            return node_\n",
    "\n",
    "    def sorted_list_to_bst(lst):\n",
    "        # Условие остановки рекурсии\n",
    "        if len(lst) == 0:\n",
    "            return None\n",
    "\n",
    "        # корень - средний элемент\n",
    "        middle_index = len(lst) // 2 if len(lst) % 2 == 1 else len(lst) // 2 - 1\n",
    "        root = TreeNode(lst[middle_index])\n",
    "\n",
    "        #  левая половина списка\n",
    "        root.left = Tree.sorted_list_to_bst(lst[: middle_index])\n",
    "\n",
    "        # правая половина списка\n",
    "        root.right = Tree.sorted_list_to_bst(lst[(middle_index + 1):])\n",
    "\n",
    "        return root\n",
    "\n",
    "    def mirror(self, node=None):\n",
    "        if node is None:\n",
    "            node = self.root\n",
    "        if node is not None:\n",
    "            if node.left and node.right:\n",
    "                node.left, node.right = node.right, node.left\n",
    "                self.mirror(node.right)\n",
    "                self.mirror(node.left)\n",
    "            else:\n",
    "                if node.left is None and node.right:\n",
    "                    return self.mirror(node.right)\n",
    "                if node.right is None and node.left:\n",
    "                    return self.mirror(node.left)\n",
    "\n",
    "    def find_in_bst(self, value, path=None, node=None):\n",
    "        if node is None:\n",
    "            node = self.root\n",
    "\n",
    "        if not self.is_valid_bst(node):\n",
    "            print(\"Не валидное бинарное дерево поиска\")\n",
    "            return\n",
    "\n",
    "        if path is None:\n",
    "            path = []\n",
    "\n",
    "        if node is not None:\n",
    "            path.append(node.value)\n",
    "\n",
    "            if node.value == value:\n",
    "                print(path)\n",
    "                return\n",
    "            elif value < node.value and node.left is not None:\n",
    "                self.find_in_bst(value, path, node.left)\n",
    "            elif value > node.value and node.right is not None:\n",
    "                self.find_in_bst(value, path, node.right)\n",
    "            else:\n",
    "                print(\"«Узел не найден»\")\n",
    "\n",
    "    def is_valid_bst(self, node=None, min_val=float('-inf'), max_val=float('inf')):\n",
    "        if node is None or (node.left is None and node.right is None):\n",
    "            return True\n",
    "\n",
    "        if node.value <= min_val:\n",
    "            return False\n",
    "\n",
    "        if node.value >= max_val:\n",
    "            return False\n",
    "\n",
    "        return (self.is_valid_bst(node.right, node.value, max_val) and\n",
    "                self.is_valid_bst(node.left, min_val, node.value))\n",
    "\n",
    "\n",
    "# функция подсчета воды\n",
    "def maxVolume(heights):\n",
    "    ans = 0\n",
    "    maxHeight = max(heights)\n",
    "    firstPossibleMax = 0\n",
    "    secondPossibleMax = 0\n",
    "\n",
    "    i = 1\n",
    "    while i < len(heights):\n",
    "        currentHeight = i - 1\n",
    "        while heights[currentHeight] > heights[i]:\n",
    "            i += 1\n",
    "\n",
    "        ans += (i - currentHeight) * heights[currentHeight]\n",
    "\n",
    "        if heights[i] == maxHeight:\n",
    "            firstPossibleMax = i\n",
    "            break\n",
    "        i += 1\n",
    "\n",
    "    i = len(heights) - 2\n",
    "    while i > 1:\n",
    "        currentHeight = i + 1\n",
    "        while heights[currentHeight] > heights[i]:\n",
    "            i -= 1\n",
    "\n",
    "        ans += (currentHeight - i) * heights[currentHeight]\n",
    "\n",
    "        if heights[i] == maxHeight:\n",
    "            secondPossibleMax = i\n",
    "            break\n",
    "        i -= 1\n",
    "\n",
    "    if firstPossibleMax != secondPossibleMax:\n",
    "        ans += abs(secondPossibleMax - firstPossibleMax) * maxHeight\n",
    "\n",
    "    return ans"
   ],
   "metadata": {
    "collapsed": false,
    "pycharm": {
     "name": "#%%\n"
    }
   }
  },
  {
   "cell_type": "markdown",
   "source": [
    "Вводные для исследования сложности алгоритмов."
   ],
   "metadata": {
    "collapsed": false,
    "pycharm": {
     "name": "#%% md\n"
    }
   }
  },
  {
   "cell_type": "code",
   "execution_count": null,
   "outputs": [],
   "source": [
    "import numpy as np\n",
    "from matplotlib import pyplot as plt\n",
    "from statsmodels.nonparametric.smoothers_lowess import lowess\n",
    "\n",
    "import time\n",
    "\n",
    "def plot_complexity(n, times, complexity):\n",
    "    '''Функция для построения графиков зависимости времени работы функции от размера входных данных'''\n",
    "\n",
    "    times = np.array(times)\n",
    "\n",
    "    # Сглаживаем данные\n",
    "    times = lowess(times, n, frac=0.1, return_sorted=False)\n",
    "\n",
    "    # Создаем массив времени, поделенный на функцию сложности\n",
    "    if complexity == 'O(1)':\n",
    "        times2 = times.copy()\n",
    "    elif complexity == 'O(n)':\n",
    "        times2 = times / n\n",
    "    elif complexity == 'O(n^2)':\n",
    "        times2 = times / n**2\n",
    "    elif complexity == 'O(n^3)':\n",
    "        times2 = times / n**3\n",
    "    elif complexity == 'O(logn)':\n",
    "        times2 = times / np.log(n)\n",
    "    elif complexity == 'O(nlogn)':\n",
    "        times2 = times / (n * np.log(n))\n",
    "    elif complexity == 'O(2^n)':\n",
    "        times2 = times / 2**n\n",
    "\n",
    "    # Строим графики\n",
    "    fig, axs = plt.subplots(1, 2, figsize=(10, 5))\n",
    "    fig.suptitle(f'Complexity: {complexity}')\n",
    "\n",
    "    axs[0].plot(n, times)\n",
    "    axs[0].set_xlabel('n')\n",
    "    axs[0].set_ylabel('time')\n",
    "    axs[0].grid()\n",
    "\n",
    "    axs[1].plot(n, times2)\n",
    "    axs[1].set_xlabel('n')\n",
    "    axs[1].set_ylabel('time / complexity')\n",
    "    axs[1].grid()\n",
    "\n",
    "    plt.subplots_adjust(wspace=0.5, hspace=0.6)\n",
    "    plt.show()\n",
    "\n",
    "\n",
    "def show_time(f):\n",
    "    def temp_function(runs_count, complexity=None, gen_func_args=None):\n",
    "        '''\n",
    "        :param runs_count: количество запусков функции\n",
    "        :param complexity: сложность алгоритма\n",
    "        :param gen_func_args: функция генерации аргументов для функции f (должна принимать на вход размер списка)\n",
    "        '''\n",
    "\n",
    "        times = []\n",
    "        for i in range(2, runs_count):\n",
    "            params = gen_func_args(i)\n",
    "\n",
    "            start = time.time()\n",
    "            f(*params)\n",
    "            end = time.time()\n",
    "            times.append(end - start)\n",
    "\n",
    "        plot_complexity(np.arange(2, runs_count), times, complexity)\n",
    "\n",
    "    return temp_function"
   ],
   "metadata": {
    "collapsed": false,
    "pycharm": {
     "name": "#%%\n"
    }
   }
  },
  {
   "cell_type": "markdown",
   "source": [
    "Исследование односвязного списка.\n",
    "1. append"
   ],
   "metadata": {
    "collapsed": false,
    "pycharm": {
     "name": "#%% md\n"
    }
   }
  },
  {
   "cell_type": "code",
   "execution_count": null,
   "outputs": [
    {
     "ename": "KeyboardInterrupt",
     "evalue": "",
     "output_type": "error",
     "traceback": [
      "\u001B[1;31m---------------------------------------------------------------------------\u001B[0m",
      "\u001B[1;31mKeyboardInterrupt\u001B[0m                         Traceback (most recent call last)",
      "Cell \u001B[1;32mIn[9], line 8\u001B[0m\n\u001B[0;32m      5\u001B[0m \u001B[38;5;28;01mdef\u001B[39;00m \u001B[38;5;21mgen_func_args_append\u001B[39m(n):\n\u001B[0;32m      6\u001B[0m     \u001B[38;5;28;01mreturn\u001B[39;00m LinkedList(\u001B[38;5;241m*\u001B[39mnp\u001B[38;5;241m.\u001B[39mrandom\u001B[38;5;241m.\u001B[39mrandint(\u001B[38;5;241m0\u001B[39m, \u001B[38;5;241m1\u001B[39m, n)), \u001B[38;5;241m0\u001B[39m\n\u001B[1;32m----> 8\u001B[0m \u001B[43mappend\u001B[49m\u001B[43m(\u001B[49m\u001B[43mruns_count\u001B[49m\u001B[38;5;241;43m=\u001B[39;49m\u001B[38;5;241;43m10000\u001B[39;49m\u001B[43m,\u001B[49m\u001B[43m \u001B[49m\u001B[43mcomplexity\u001B[49m\u001B[38;5;241;43m=\u001B[39;49m\u001B[38;5;124;43m'\u001B[39;49m\u001B[38;5;124;43mO(1)\u001B[39;49m\u001B[38;5;124;43m'\u001B[39;49m\u001B[43m,\u001B[49m\u001B[43m \u001B[49m\u001B[43mgen_func_args\u001B[49m\u001B[38;5;241;43m=\u001B[39;49m\u001B[43mgen_func_args_append\u001B[49m\u001B[43m)\u001B[49m\n",
      "Cell \u001B[1;32mIn[7], line 59\u001B[0m, in \u001B[0;36mshow_time.<locals>.temp_function\u001B[1;34m(runs_count, complexity, gen_func_args)\u001B[0m\n\u001B[0;32m     57\u001B[0m times \u001B[38;5;241m=\u001B[39m []\n\u001B[0;32m     58\u001B[0m \u001B[38;5;28;01mfor\u001B[39;00m i \u001B[38;5;129;01min\u001B[39;00m \u001B[38;5;28mrange\u001B[39m(\u001B[38;5;241m2\u001B[39m, runs_count):\n\u001B[1;32m---> 59\u001B[0m     params \u001B[38;5;241m=\u001B[39m \u001B[43mgen_func_args\u001B[49m\u001B[43m(\u001B[49m\u001B[43mi\u001B[49m\u001B[43m)\u001B[49m\n\u001B[0;32m     61\u001B[0m     start \u001B[38;5;241m=\u001B[39m time\u001B[38;5;241m.\u001B[39mtime()\n\u001B[0;32m     62\u001B[0m     f(\u001B[38;5;241m*\u001B[39mparams)\n",
      "Cell \u001B[1;32mIn[9], line 6\u001B[0m, in \u001B[0;36mgen_func_args_append\u001B[1;34m(n)\u001B[0m\n\u001B[0;32m      5\u001B[0m \u001B[38;5;28;01mdef\u001B[39;00m \u001B[38;5;21mgen_func_args_append\u001B[39m(n):\n\u001B[1;32m----> 6\u001B[0m     \u001B[38;5;28;01mreturn\u001B[39;00m \u001B[43mLinkedList\u001B[49m\u001B[43m(\u001B[49m\u001B[38;5;241;43m*\u001B[39;49m\u001B[43mnp\u001B[49m\u001B[38;5;241;43m.\u001B[39;49m\u001B[43mrandom\u001B[49m\u001B[38;5;241;43m.\u001B[39;49m\u001B[43mrandint\u001B[49m\u001B[43m(\u001B[49m\u001B[38;5;241;43m0\u001B[39;49m\u001B[43m,\u001B[49m\u001B[43m \u001B[49m\u001B[38;5;241;43m1\u001B[39;49m\u001B[43m,\u001B[49m\u001B[43m \u001B[49m\u001B[43mn\u001B[49m\u001B[43m)\u001B[49m\u001B[43m)\u001B[49m, \u001B[38;5;241m0\u001B[39m\n",
      "Cell \u001B[1;32mIn[6], line 13\u001B[0m, in \u001B[0;36mLinkedList.__init__\u001B[1;34m(self, *args)\u001B[0m\n\u001B[0;32m     11\u001B[0m \u001B[38;5;28;01mif\u001B[39;00m args:\n\u001B[0;32m     12\u001B[0m     \u001B[38;5;28;01mfor\u001B[39;00m value \u001B[38;5;129;01min\u001B[39;00m args:\n\u001B[1;32m---> 13\u001B[0m         \u001B[38;5;28;43mself\u001B[39;49m\u001B[38;5;241;43m.\u001B[39;49m\u001B[43mappend\u001B[49m\u001B[43m(\u001B[49m\u001B[43mvalue\u001B[49m\u001B[43m)\u001B[49m\n",
      "Cell \u001B[1;32mIn[6], line 77\u001B[0m, in \u001B[0;36mLinkedList.append\u001B[1;34m(self, value)\u001B[0m\n\u001B[0;32m     75\u001B[0m currentNode \u001B[38;5;241m=\u001B[39m \u001B[38;5;28mself\u001B[39m\u001B[38;5;241m.\u001B[39mhead\n\u001B[0;32m     76\u001B[0m \u001B[38;5;28;01mwhile\u001B[39;00m currentNode\u001B[38;5;241m.\u001B[39mnextNode:\n\u001B[1;32m---> 77\u001B[0m     currentNode \u001B[38;5;241m=\u001B[39m currentNode\u001B[38;5;241m.\u001B[39mnextNode\n\u001B[0;32m     78\u001B[0m currentNode\u001B[38;5;241m.\u001B[39mnextNode \u001B[38;5;241m=\u001B[39m newNode\n",
      "\u001B[1;31mKeyboardInterrupt\u001B[0m: "
     ]
    }
   ],
   "source": [
    "@show_time\n",
    "def append(list: LinkedList, value):\n",
    "    list.append(value)\n",
    "\n",
    "def gen_func_args_append(n):\n",
    "    return LinkedList(*np.random.randint(0, 1, n)), 0\n",
    "\n",
    "append(runs_count=10000, complexity='O(1)', gen_func_args=gen_func_args_append)"
   ],
   "metadata": {
    "collapsed": false,
    "pycharm": {
     "name": "#%%\n"
    }
   }
  },
  {
   "cell_type": "markdown",
   "source": [
    "2. find"
   ],
   "metadata": {
    "collapsed": false,
    "pycharm": {
     "name": "#%% md\n"
    }
   }
  },
  {
   "cell_type": "code",
   "execution_count": null,
   "outputs": [],
   "source": [
    "@show_time\n",
    "def find(list: LinkedList, value):\n",
    "    return list.find(value)\n",
    "\n",
    "\n",
    "def gen_params_find_worst(n):\n",
    "    l = LinkedList(*np.random.randint(0, 5, n))\n",
    "    l.insert_in_tail(6)\n",
    "    return l, 6\n",
    "\n",
    "find(runs_count=10000, complexity='O(n)', gen_func_args=gen_params_find_worst)"
   ],
   "metadata": {
    "collapsed": false,
    "pycharm": {
     "name": "#%%\n"
    }
   }
  },
  {
   "cell_type": "code",
   "execution_count": null,
   "outputs": [],
   "source": [
    "def gen_params_find_best(n):\n",
    "    l = LinkedList(*np.random.randint(0, 5, n))\n",
    "    l.prepend_value(6)\n",
    "    return l, 6\n",
    "\n",
    "find(runs_count=10000, complexity='O(1)',  gen_func_args=gen_params_find_best)"
   ],
   "metadata": {
    "collapsed": false,
    "pycharm": {
     "name": "#%%\n"
    }
   }
  },
  {
   "cell_type": "code",
   "execution_count": null,
   "outputs": [],
   "source": [
    "def gen_params_find_avg(n):\n",
    "    return LinkedList(*np.random.randint(0, 10000, n)), np.random.randint(0, 10000)\n",
    "\n",
    "find(runs_count=10000, complexity='O(n)', gen_func_args=gen_params_find_avg)"
   ],
   "metadata": {
    "collapsed": false,
    "pycharm": {
     "name": "#%%\n"
    }
   }
  },
  {
   "cell_type": "markdown",
   "source": [
    "3. insert"
   ],
   "metadata": {
    "collapsed": false,
    "pycharm": {
     "name": "#%% md\n"
    }
   }
  },
  {
   "cell_type": "code",
   "execution_count": null,
   "outputs": [],
   "source": [
    "@show_time\n",
    "def insert(list: LinkedList, index, value):\n",
    "    return list.insert(index, value)\n",
    "\n",
    "\n",
    "def gen_params_insert_worst(n):\n",
    "    return LinkedList(*np.random.randint(0, 10000, n)), n - 2, np.random.randint(0, 10000)\n",
    "\n",
    "insert(runs_count=10000, complexity='O(n)', gen_func_args=gen_params_insert_worst)"
   ],
   "metadata": {
    "collapsed": false,
    "pycharm": {
     "name": "#%%\n"
    }
   }
  },
  {
   "cell_type": "code",
   "execution_count": null,
   "outputs": [],
   "source": [
    "def gen_params_insert_best1(n):\n",
    "    return LinkedList(*np.random.randint(0, 10000, n)), 0, np.random.randint(0, 10000)\n",
    "\n",
    "insert(runs_count=10000, complexity='O(1)', gen_func_args=gen_params_insert_best1)"
   ],
   "metadata": {
    "collapsed": false,
    "pycharm": {
     "name": "#%%\n"
    }
   }
  },
  {
   "cell_type": "code",
   "execution_count": null,
   "outputs": [],
   "source": [
    "def gen_params_insert_best2(n):\n",
    "    return LinkedList(*np.random.randint(0, 10000, n)), n - 1, np.random.randint(0, 10000)\n",
    "\n",
    "insert(runs_count=10000, complexity=\"O(1)\", gen_func_args=gen_params_insert_best2)"
   ],
   "metadata": {
    "collapsed": false,
    "pycharm": {
     "name": "#%%\n"
    }
   }
  },
  {
   "cell_type": "code",
   "execution_count": null,
   "outputs": [],
   "source": [
    "def gen_params_insert_avg(n):\n",
    "    return LinkedList(*np.random.randint(0, 2000, n)), np.random.randint(1, n), np.random.randint(0, 2000)\n",
    "\n",
    "insert(runs_count=10000, complexity='O(n)', gen_func_args=gen_params_insert_avg)"
   ],
   "metadata": {
    "collapsed": false,
    "pycharm": {
     "name": "#%%\n"
    }
   }
  },
  {
   "cell_type": "markdown",
   "source": [
    "4. remove"
   ],
   "metadata": {
    "collapsed": false,
    "pycharm": {
     "name": "#%% md\n"
    }
   }
  },
  {
   "cell_type": "code",
   "execution_count": null,
   "outputs": [],
   "source": [
    "@show_time\n",
    "def delete(list: LinkedList, index):\n",
    "    return list.remove(index)\n",
    "\n",
    "def gen_params_delete_worst(n):\n",
    "    return LinkedList(*np.random.randint(0, 2000, n)), n-1\n",
    "\n",
    "delete(runs_count=10000, complexity='O(n)', gen_func_args=gen_params_delete_worst)"
   ],
   "metadata": {
    "collapsed": false,
    "pycharm": {
     "name": "#%%\n"
    }
   }
  },
  {
   "cell_type": "code",
   "execution_count": null,
   "outputs": [],
   "source": [
    "def gen_params_delete_best(n):\n",
    "    return LinkedList(*np.random.randint(0, 2000, n)), 0\n",
    "\n",
    "delete(runs_count=10000, complexity='O(1)', gen_func_args=gen_params_delete_best)"
   ],
   "metadata": {
    "collapsed": false,
    "pycharm": {
     "name": "#%%\n"
    }
   }
  },
  {
   "cell_type": "code",
   "execution_count": null,
   "outputs": [],
   "source": [
    "def gen_params_delete_avg(n):\n",
    "    return LinkedList(*np.random.randint(0, 2000, n)), np.random.randint(0, n-1)\n",
    "\n",
    "delete(runs_count=10000, complexity='O(n)', gen_func_args=gen_params_delete_avg)"
   ],
   "metadata": {
    "collapsed": false,
    "pycharm": {
     "name": "#%%\n"
    }
   }
  },
  {
   "cell_type": "markdown",
   "source": [
    "5. reverse"
   ],
   "metadata": {
    "collapsed": false,
    "pycharm": {
     "name": "#%% md\n"
    }
   }
  },
  {
   "cell_type": "code",
   "execution_count": null,
   "outputs": [],
   "source": [
    "@show_time\n",
    "def reverse(list: LinkedList):\n",
    "    return list.reverse()\n",
    "\n",
    "def gen_params_reverse(n):\n",
    "    return [LinkedList(*np.random.randint(0, 2000, n))]\n",
    "\n",
    "reverse(runs_count=10000, complexity='O(n)', gen_func_args=gen_params_reverse)"
   ],
   "metadata": {
    "collapsed": false,
    "pycharm": {
     "name": "#%%\n"
    }
   }
  },
  {
   "cell_type": "markdown",
   "source": [
    "6. split"
   ],
   "metadata": {
    "collapsed": false,
    "pycharm": {
     "name": "#%% md\n"
    }
   }
  },
  {
   "cell_type": "code",
   "execution_count": null,
   "outputs": [],
   "source": [
    "@show_time\n",
    "def split(list: LinkedList):\n",
    "    return list.split()\n",
    "\n",
    "def gen_params_split(n):\n",
    "    return [LinkedList(*np.random.randint(0, 2000, n))]\n",
    "\n",
    "split(runs_count=10000, complexity='O(n)', gen_func_args=gen_params_split)"
   ],
   "metadata": {
    "collapsed": false,
    "pycharm": {
     "name": "#%%\n"
    }
   }
  },
  {
   "cell_type": "markdown",
   "source": [
    "7. merge"
   ],
   "metadata": {
    "collapsed": false,
    "pycharm": {
     "name": "#%% md\n"
    }
   }
  },
  {
   "cell_type": "code",
   "execution_count": null,
   "outputs": [],
   "source": [
    "@show_time\n",
    "def merge(list1: LinkedList, list2: LinkedList):\n",
    "    return LinkedList.mergeLinkedLists(list1, list2)\n",
    "\n",
    "def gen_params_merge(n):\n",
    "    l1 = np.random.randint(0, 2000, n)\n",
    "    l1.sort()\n",
    "\n",
    "    l2 = np.random.randint(0, 2000, n)\n",
    "    l2.sort()\n",
    "\n",
    "    return l1, l2\n",
    "\n",
    "merge(runs_count=10000, complexity='O(n)', gen_func_args=gen_params_merge)"
   ],
   "metadata": {
    "collapsed": false,
    "pycharm": {
     "name": "#%%\n"
    }
   }
  },
  {
   "cell_type": "markdown",
   "source": [
    "Исследование бинарного дерева\n",
    "1. Построение дерева"
   ],
   "metadata": {
    "collapsed": false,
    "pycharm": {
     "name": "#%% md\n"
    }
   }
  },
  {
   "cell_type": "code",
   "execution_count": null,
   "outputs": [],
   "source": [
    "@show_time\n",
    "def sorted_list_to_bst(list):\n",
    "    return Tree.sorted_list_to_bst(list)\n",
    "\n",
    "def gen_params_sorted_list_to_bst(n):\n",
    "    l = np.random.randint(0, n, n)\n",
    "    l.sort()\n",
    "    return [l]\n",
    "\n",
    "sorted_list_to_bst(runs_count=10000, complexity=\"O(n)\", gen_func_args=gen_params_sorted_list_to_bst)"
   ],
   "metadata": {
    "collapsed": false,
    "pycharm": {
     "name": "#%%\n"
    }
   }
  },
  {
   "cell_type": "markdown",
   "source": [
    "2. Поиск в дереве"
   ],
   "metadata": {
    "collapsed": false,
    "pycharm": {
     "name": "#%% md\n"
    }
   }
  },
  {
   "cell_type": "code",
   "execution_count": null,
   "outputs": [],
   "source": [
    "@show_time\n",
    "def find_in_bst(tree: Tree, value):\n",
    "    return tree.find_in_bst(value)\n",
    "\n",
    "def gen_params_find_in_bst_worst(n):\n",
    "    l = np.array([i for i in range(n)])\n",
    "    bst = Tree(Tree.sorted_list_to_bst(l))\n",
    "    return bst, 0\n",
    "\n",
    "find_in_bst(runs_count=8000, complexity=\"O(logn)\", gen_func_args=gen_params_find_in_bst_worst)"
   ],
   "metadata": {
    "collapsed": false,
    "pycharm": {
     "name": "#%%\n"
    }
   }
  },
  {
   "cell_type": "code",
   "execution_count": null,
   "outputs": [],
   "source": [
    "def gen_params_find_in_bst_best(n):\n",
    "    l = np.array([i for i in range(n)])\n",
    "    bst = Tree(Tree.sorted_list_to_bst(l))\n",
    "    return bst, n // 2\n",
    "\n",
    "find_in_bst(runs_count=8000, complexity=\"O(1)\", gen_func_args=gen_params_find_in_bst_best)"
   ],
   "metadata": {
    "collapsed": false,
    "pycharm": {
     "name": "#%%\n"
    }
   }
  },
  {
   "cell_type": "code",
   "execution_count": null,
   "outputs": [],
   "source": [
    "def gen_params_find_in_bst_avg(n):\n",
    "    l = np.array([i for i in range(n)])\n",
    "    bst = Tree(Tree.sorted_list_to_bst(l))\n",
    "    return bst, np.random.randint(0, n)\n",
    "\n",
    "find_in_bst(runs_count=8000, complexity=\"O(logn)\", gen_func_args=gen_params_find_in_bst_avg)"
   ],
   "metadata": {
    "collapsed": false,
    "pycharm": {
     "name": "#%%\n"
    }
   }
  },
  {
   "cell_type": "markdown",
   "source": [
    "Исследование алгоритма подсчета воды"
   ],
   "metadata": {
    "collapsed": false,
    "pycharm": {
     "name": "#%% md\n"
    }
   }
  },
  {
   "cell_type": "code",
   "execution_count": null,
   "outputs": [],
   "source": [
    "@show_time\n",
    "def maxVolume(lengths):\n",
    "    return maxVolume(lengths)\n",
    "\n",
    "def gen_params_maxVolume(n):\n",
    "    return [np.random.randint(0, n, n)]\n",
    "\n",
    "maxVolume(runs_count=10000, complexity=\"O(n)\", gen_func_args=gen_params_maxVolume)"
   ],
   "metadata": {
    "collapsed": false,
    "pycharm": {
     "name": "#%%\n"
    }
   }
  }
 ],
 "metadata": {
  "kernelspec": {
   "display_name": "Python 3",
   "language": "python",
   "name": "python3"
  },
  "language_info": {
   "codemirror_mode": {
    "name": "ipython",
    "version": 2
   },
   "file_extension": ".py",
   "mimetype": "text/x-python",
   "name": "python",
   "nbconvert_exporter": "python",
   "pygments_lexer": "ipython2",
   "version": "2.7.6"
  }
 },
 "nbformat": 4,
 "nbformat_minor": 0
}