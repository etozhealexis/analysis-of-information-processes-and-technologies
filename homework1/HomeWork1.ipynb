{
 "cells": [
  {
   "cell_type": "markdown",
   "source": [
    "1) Наибольший общий делитель"
   ],
   "metadata": {
    "collapsed": false
   }
  },
  {
   "cell_type": "code",
   "execution_count": 1,
   "outputs": [
    {
     "data": {
      "text/plain": "1"
     },
     "execution_count": 1,
     "metadata": {},
     "output_type": "execute_result"
    }
   ],
   "source": [
    "from service.task1 import *\n",
    "\n",
    "a = 8\n",
    "b = 3\n",
    "\n",
    "NOD(a, b)"
   ],
   "metadata": {
    "collapsed": false,
    "ExecuteTime": {
     "end_time": "2023-09-10T17:28:42.819328300Z",
     "start_time": "2023-09-10T17:28:42.803327100Z"
    }
   }
  },
  {
   "cell_type": "markdown",
   "source": [
    "2) Перевод числа из десятичной сс в двочиную сс"
   ],
   "metadata": {
    "collapsed": false
   }
  },
  {
   "cell_type": "code",
   "execution_count": 2,
   "outputs": [
    {
     "data": {
      "text/plain": "'101'"
     },
     "execution_count": 2,
     "metadata": {},
     "output_type": "execute_result"
    }
   ],
   "source": [
    "from service.task2 import *\n",
    "\n",
    "a = 5\n",
    "\n",
    "convertDecimalToBinary(a)"
   ],
   "metadata": {
    "collapsed": false,
    "ExecuteTime": {
     "end_time": "2023-09-10T17:28:42.835331800Z",
     "start_time": "2023-09-10T17:28:42.819328300Z"
    }
   }
  },
  {
   "cell_type": "markdown",
   "source": [
    "3) Простое/составное число"
   ],
   "metadata": {
    "collapsed": false
   }
  },
  {
   "cell_type": "code",
   "execution_count": 3,
   "outputs": [
    {
     "data": {
      "text/plain": "False"
     },
     "execution_count": 3,
     "metadata": {},
     "output_type": "execute_result"
    }
   ],
   "source": [
    "from service.task3 import *\n",
    "\n",
    "a = 6\n",
    "\n",
    "simplicityOfNumber(a)"
   ],
   "metadata": {
    "collapsed": false,
    "ExecuteTime": {
     "end_time": "2023-09-10T17:28:42.880326600Z",
     "start_time": "2023-09-10T17:28:42.834329Z"
    }
   }
  },
  {
   "cell_type": "markdown",
   "source": [
    "4) Сумма цифр числа"
   ],
   "metadata": {
    "collapsed": false
   }
  },
  {
   "cell_type": "code",
   "execution_count": 4,
   "outputs": [
    {
     "data": {
      "text/plain": "3"
     },
     "execution_count": 4,
     "metadata": {},
     "output_type": "execute_result"
    }
   ],
   "source": [
    "from service.task4 import *\n",
    "\n",
    "a = 867\n",
    "\n",
    "sumOfNumbers(a)"
   ],
   "metadata": {
    "collapsed": false,
    "ExecuteTime": {
     "end_time": "2023-09-10T17:28:42.885332Z",
     "start_time": "2023-09-10T17:28:42.850330100Z"
    }
   }
  },
  {
   "cell_type": "markdown",
   "source": [
    "5) Координаты точки пересечения диагоналей прямоугольника"
   ],
   "metadata": {
    "collapsed": false
   }
  },
  {
   "cell_type": "code",
   "execution_count": 5,
   "outputs": [
    {
     "data": {
      "text/plain": "[1.5, 0.5]"
     },
     "execution_count": 5,
     "metadata": {},
     "output_type": "execute_result"
    }
   ],
   "source": [
    "from service.task5 import *\n",
    "\n",
    "x1 = [3, 5]\n",
    "x2 = [4, -2]\n",
    "x3 = [0, -4]\n",
    "x4 = [-2, 3]\n",
    "\n",
    "itersectionOfDiagonales(x1, x2, x3, x4)"
   ],
   "metadata": {
    "collapsed": false,
    "ExecuteTime": {
     "end_time": "2023-09-10T17:28:42.886329Z",
     "start_time": "2023-09-10T17:28:42.867329700Z"
    }
   }
  },
  {
   "cell_type": "markdown",
   "source": [
    "6) Максимальный объем воды в сосуде"
   ],
   "metadata": {
    "collapsed": false
   }
  },
  {
   "cell_type": "code",
   "execution_count": 6,
   "outputs": [
    {
     "data": {
      "text/plain": "47"
     },
     "execution_count": 6,
     "metadata": {},
     "output_type": "execute_result"
    }
   ],
   "source": [
    "from service.task6 import *\n",
    "\n",
    "heights = [6, 8, 4, 10, 9, 5, 8]\n",
    "\n",
    "maxVolume(heights)"
   ],
   "metadata": {
    "collapsed": false,
    "ExecuteTime": {
     "end_time": "2023-09-10T17:28:42.898330500Z",
     "start_time": "2023-09-10T17:28:42.883328600Z"
    }
   }
  }
 ],
 "metadata": {
  "kernelspec": {
   "display_name": "Python 3",
   "language": "python",
   "name": "python3"
  },
  "language_info": {
   "codemirror_mode": {
    "name": "ipython",
    "version": 2
   },
   "file_extension": ".py",
   "mimetype": "text/x-python",
   "name": "python",
   "nbconvert_exporter": "python",
   "pygments_lexer": "ipython2",
   "version": "2.7.6"
  }
 },
 "nbformat": 4,
 "nbformat_minor": 0
}
