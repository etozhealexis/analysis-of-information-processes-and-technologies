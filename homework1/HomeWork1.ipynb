{
 "cells": [
  {
   "cell_type": "markdown",
   "source": [
    "Наименьший общий делитель"
   ],
   "metadata": {
    "collapsed": false
   }
  },
  {
   "cell_type": "code",
   "execution_count": 1,
   "outputs": [
    {
     "data": {
      "text/plain": "2"
     },
     "execution_count": 1,
     "metadata": {},
     "output_type": "execute_result"
    }
   ],
   "source": [
    "from service.task1 import *\n",
    "\n",
    "a = 2\n",
    "b = 5\n",
    "\n",
    "NOD(a, b)"
   ],
   "metadata": {
    "collapsed": false,
    "ExecuteTime": {
     "end_time": "2023-09-06T19:17:09.143551200Z",
     "start_time": "2023-09-06T19:17:09.118530800Z"
    }
   }
  },
  {
   "cell_type": "markdown",
   "source": [
    "Перевод числа из двоичной сс в десятичную сс"
   ],
   "metadata": {
    "collapsed": false
   }
  },
  {
   "cell_type": "code",
   "execution_count": 2,
   "outputs": [
    {
     "data": {
      "text/plain": "5"
     },
     "execution_count": 2,
     "metadata": {},
     "output_type": "execute_result"
    }
   ],
   "source": [
    "from service.task2 import *\n",
    "\n",
    "a = 101\n",
    "\n",
    "convertBinaryToDecimal(a)"
   ],
   "metadata": {
    "collapsed": false,
    "ExecuteTime": {
     "end_time": "2023-09-06T19:17:09.172546300Z",
     "start_time": "2023-09-06T19:17:09.144549900Z"
    }
   }
  },
  {
   "cell_type": "markdown",
   "source": [
    "Количество воды"
   ],
   "metadata": {
    "collapsed": false
   }
  },
  {
   "cell_type": "code",
   "execution_count": 2,
   "outputs": [],
   "source": [],
   "metadata": {
    "collapsed": false,
    "ExecuteTime": {
     "end_time": "2023-09-06T19:17:09.188473900Z",
     "start_time": "2023-09-06T19:17:09.160547700Z"
    }
   }
  }
 ],
 "metadata": {
  "kernelspec": {
   "display_name": "Python 3",
   "language": "python",
   "name": "python3"
  },
  "language_info": {
   "codemirror_mode": {
    "name": "ipython",
    "version": 2
   },
   "file_extension": ".py",
   "mimetype": "text/x-python",
   "name": "python",
   "nbconvert_exporter": "python",
   "pygments_lexer": "ipython2",
   "version": "2.7.6"
  }
 },
 "nbformat": 4,
 "nbformat_minor": 0
}
