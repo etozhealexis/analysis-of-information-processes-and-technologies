{
 "cells": [
  {
   "cell_type": "markdown",
   "source": [
    "1) Наибольший общий делитель"
   ],
   "metadata": {
    "collapsed": false
   }
  },
  {
   "cell_type": "code",
   "execution_count": 1,
   "outputs": [
    {
     "data": {
      "text/plain": "1"
     },
     "execution_count": 1,
     "metadata": {},
     "output_type": "execute_result"
    }
   ],
   "source": [
    "from service.task1 import *\n",
    "\n",
    "a = 8\n",
    "b = 3\n",
    "\n",
    "NOD(a, b)"
   ],
   "metadata": {
    "collapsed": false,
    "ExecuteTime": {
     "end_time": "2023-09-08T14:47:40.035812600Z",
     "start_time": "2023-09-08T14:47:40.011812600Z"
    }
   }
  },
  {
   "cell_type": "markdown",
   "source": [
    "2) Перевод числа из десятичной сс в двочиную сс"
   ],
   "metadata": {
    "collapsed": false
   }
  },
  {
   "cell_type": "code",
   "execution_count": 2,
   "outputs": [
    {
     "data": {
      "text/plain": "101"
     },
     "execution_count": 2,
     "metadata": {},
     "output_type": "execute_result"
    }
   ],
   "source": [
    "from service.task2 import *\n",
    "\n",
    "a = 5\n",
    "\n",
    "convertDecimalToBinary(a)"
   ],
   "metadata": {
    "collapsed": false,
    "ExecuteTime": {
     "end_time": "2023-09-08T14:51:03.015307300Z",
     "start_time": "2023-09-08T14:51:03.009306Z"
    }
   }
  },
  {
   "cell_type": "markdown",
   "source": [
    "3) Простое/составное число"
   ],
   "metadata": {
    "collapsed": false
   }
  },
  {
   "cell_type": "code",
   "execution_count": 1,
   "outputs": [
    {
     "data": {
      "text/plain": "False"
     },
     "execution_count": 1,
     "metadata": {},
     "output_type": "execute_result"
    }
   ],
   "source": [
    "from service.task3 import *\n",
    "\n",
    "a = 6\n",
    "\n",
    "simplicityOfNumber(a)"
   ],
   "metadata": {
    "collapsed": false,
    "ExecuteTime": {
     "end_time": "2023-09-08T15:11:21.962615500Z",
     "start_time": "2023-09-08T15:11:21.950614500Z"
    }
   }
  },
  {
   "cell_type": "markdown",
   "source": [
    "4) Сумма цифр числа"
   ],
   "metadata": {
    "collapsed": false
   }
  },
  {
   "cell_type": "code",
   "execution_count": null,
   "outputs": [],
   "source": [
    "from service.task4 import *\n",
    "\n",
    "a = 867\n",
    "\n",
    "sumOfNumbers(a)"
   ],
   "metadata": {
    "collapsed": false
   }
  },
  {
   "cell_type": "markdown",
   "source": [
    "5) Координаты точки пересечения диагоналей прямоугольника"
   ],
   "metadata": {
    "collapsed": false
   }
  },
  {
   "cell_type": "code",
   "execution_count": null,
   "outputs": [],
   "source": [
    "from service.task5 import *"
   ],
   "metadata": {
    "collapsed": false
   }
  },
  {
   "cell_type": "markdown",
   "source": [
    "6) Максимальный объем воды в сосуде"
   ],
   "metadata": {
    "collapsed": false
   }
  },
  {
   "cell_type": "code",
   "execution_count": null,
   "outputs": [],
   "source": [
    "from service.task6 import *\n",
    "\n",
    "heights = [6, 8, 4, 10, 9, 5, 8]\n",
    "\n",
    "maxVolume(heights)"
   ],
   "metadata": {
    "collapsed": false
   }
  }
 ],
 "metadata": {
  "kernelspec": {
   "display_name": "Python 3",
   "language": "python",
   "name": "python3"
  },
  "language_info": {
   "codemirror_mode": {
    "name": "ipython",
    "version": 2
   },
   "file_extension": ".py",
   "mimetype": "text/x-python",
   "name": "python",
   "nbconvert_exporter": "python",
   "pygments_lexer": "ipython2",
   "version": "2.7.6"
  }
 },
 "nbformat": 4,
 "nbformat_minor": 0
}
